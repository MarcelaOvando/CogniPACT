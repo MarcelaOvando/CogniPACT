{
 "cells": [
  {
   "cell_type": "code",
   "execution_count": 13,
   "id": "initial_id",
   "metadata": {
    "collapsed": true,
    "ExecuteTime": {
     "end_time": "2025-02-27T14:04:45.644557Z",
     "start_time": "2025-02-27T14:04:45.039005Z"
    }
   },
   "outputs": [],
   "source": [
    "import pandas as pd\n",
    "\n",
    "# Step 1: Load the original CSV file\n",
    "mycsvfile = \"distances_from_new_maps_to_originalMOT.csv\"  # Replace with your CSV file name\n",
    "data_csv = pd.read_csv(mycsvfile, header=None)  # No header in your CSV file\n",
    "\n",
    "# Step 2: Initialize lists to store results\n",
    "frames = []\n",
    "shortest_euclidean = []\n",
    "columns = []\n",
    "\n"
   ]
  },
  {
   "cell_type": "code",
   "execution_count": 14,
   "outputs": [
    {
     "name": "stdout",
     "output_type": "stream",
     "text": [
      "New CSV file created: Eucledia_cognition.csv\n"
     ]
    }
   ],
   "source": [
    "\n",
    "# Step 3: Loop through each row to find the minimum value and the corresponding column\n",
    "for index, row in data_csv.iterrows():\n",
    "    # Find the minimum value in the row and the column index\n",
    "    min_value = row.min()  # Minimum value\n",
    "    min_col = row.idxmin() + 1 # Column index of the minimum value\n",
    "\n",
    "    # Append results\n",
    "    frames.append(index + 1)  # Frames are 1-based (from 1 to 3655)\n",
    "    shortest_euclidean.append(min_value)\n",
    "    columns.append(min_col)\n",
    "\n",
    "# Step 4: Create a new DataFrame to store the results\n",
    "result_df = pd.DataFrame({\n",
    "    'frame': frames,\n",
    "    'shortest_euclidean': shortest_euclidean,\n",
    "    'corresponding_column': columns\n",
    "})\n",
    "\n",
    "# Step 5: Save the results to a new CSV file\n",
    "result_df.to_csv(\"Eucledia_cognition.csv\", index=False)\n",
    "\n",
    "print(\"New CSV file created: Eucledia_cognition.csv\")\n",
    "\n"
   ],
   "metadata": {
    "collapsed": false,
    "ExecuteTime": {
     "end_time": "2025-02-27T14:04:46.757912Z",
     "start_time": "2025-02-27T14:04:46.522135Z"
    }
   },
   "id": "d0c6b5975f99f1d5"
  },
  {
   "cell_type": "code",
   "execution_count": 16,
   "outputs": [
    {
     "name": "stdout",
     "output_type": "stream",
     "text": [
      "0                acoustic\n",
      "1                  action\n",
      "2      action_observation\n",
      "3                 actions\n",
      "4                addition\n",
      "              ...        \n",
      "501            word_pairs\n",
      "502      word_recognition\n",
      "503                 words\n",
      "504        working_memory\n",
      "505               written\n",
      "Name: Functions, Length: 506, dtype: object\n"
     ]
    }
   ],
   "source": [
    "\n",
    "# Load the CSV file that contains the column names (has a header)\n",
    "reference_csv = \"00_2017_coordinates_wm_MOTparcels.csv\"  # Replace with your actual file name\n",
    "reference_df = pd.read_csv(reference_csv, sep=';')\n",
    "\n",
    "# Step 1: Load the previously created file\n",
    "output_csv = \"Eucledia_cognition.csv\"  # File created from the previous step\n",
    "output_df = pd.read_csv(output_csv)\n",
    "\n",
    "\n",
    "# Extract the first column (assuming it's the one we need for mapping)\n",
    "column_terms = reference_df.iloc[:, 0]  # First column (terms)\n",
    "\n",
    "print(column_terms)"
   ],
   "metadata": {
    "collapsed": false,
    "ExecuteTime": {
     "end_time": "2025-02-27T14:05:07.366137Z",
     "start_time": "2025-02-27T14:05:07.288419Z"
    }
   },
   "id": "cea16daa72955f4b"
  },
  {
   "cell_type": "code",
   "execution_count": 17,
   "outputs": [
    {
     "name": "stdout",
     "output_type": "stream",
     "text": [
      "New CSV file created: final_output_Eucledian_cognition.csv\n"
     ]
    }
   ],
   "source": [
    "\n",
    "# Step 3: Map 'corresponding_column' to the correct term\n",
    "output_df['corresponding_term'] = output_df['corresponding_column'].apply(\n",
    "    lambda x: column_terms.iloc[x - 1] if 1 <= x <= len(column_terms) else \"NA\"\n",
    ")\n",
    "\n",
    "# Step 4: Save the new file with the extra column\n",
    "output_df.to_csv(\"final_output_Eucledian_cognition.csv\", index=False)\n",
    "\n",
    "print(\"New CSV file created: final_output_Eucledian_cognition.csv\")\n"
   ],
   "metadata": {
    "collapsed": false,
    "ExecuteTime": {
     "end_time": "2025-02-27T14:05:11.595822Z",
     "start_time": "2025-02-27T14:05:11.545649Z"
    }
   },
   "id": "7a0d618b3c6d092d"
  },
  {
   "cell_type": "code",
   "execution_count": null,
   "outputs": [],
   "source": [],
   "metadata": {
    "collapsed": false
   },
   "id": "9d34b773be03c8c3"
  }
 ],
 "metadata": {
  "kernelspec": {
   "display_name": "Python 3",
   "language": "python",
   "name": "python3"
  },
  "language_info": {
   "codemirror_mode": {
    "name": "ipython",
    "version": 2
   },
   "file_extension": ".py",
   "mimetype": "text/x-python",
   "name": "python",
   "nbconvert_exporter": "python",
   "pygments_lexer": "ipython2",
   "version": "2.7.6"
  }
 },
 "nbformat": 4,
 "nbformat_minor": 5
}
