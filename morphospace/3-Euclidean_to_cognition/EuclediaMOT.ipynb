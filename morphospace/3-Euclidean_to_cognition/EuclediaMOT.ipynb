{
 "cells": [
  {
   "cell_type": "code",
   "execution_count": 3,
   "id": "initial_id",
   "metadata": {
    "collapsed": true,
    "ExecuteTime": {
     "end_time": "2025-02-27T13:29:28.815563Z",
     "start_time": "2025-02-27T13:29:28.731671Z"
    }
   },
   "outputs": [],
   "source": [
    "\n",
    "import numpy as np\n",
    "import pandas as pd\n"
   ]
  },
  {
   "cell_type": "code",
   "execution_count": 8,
   "outputs": [
    {
     "name": "stdout",
     "output_type": "stream",
     "text": [
      "          X         Y         Z\n",
      "0  5.333868  3.737280  2.308684\n",
      "1  6.130558  4.797709  3.204922\n",
      "2  6.035204  4.548183  3.327650\n",
      "3  6.233099  4.729073  3.302392\n",
      "4  8.165491  4.984168  5.368546\n",
      "           X         Y         Z\n",
      "0   8.123353  6.083147  5.796643\n",
      "1  10.198363  4.264278  7.956101\n",
      "2  10.234671  4.201675  8.007011\n",
      "3  10.137139  4.323755  7.874872\n",
      "4   4.587162  4.802262  4.367787\n",
      "(506, 3)\n",
      "(3655, 3)\n",
      "          X         Y         Z\n",
      "0  5.333868  3.737280  2.308684\n",
      "1  6.130558  4.797709  3.204922\n",
      "2  6.035204  4.548183  3.327650\n",
      "3  6.233099  4.729073  3.302392\n",
      "4  8.165491  4.984168  5.368546\n",
      "(4161, 3)\n",
      "X    0\n",
      "Y    0\n",
      "Z    0\n",
      "dtype: int64\n",
      "0\n"
     ]
    }
   ],
   "source": [
    "\n",
    "# The csv does not contain header. The first 506 rows are the BCS maps' coordinates. The last ones are your new map coordinates.\n",
    "mycsvfile1 = \"00_2017_coordinates_wm_MOTparcels3d.csv\"  # Coordinates of the white matter morphospace\n",
    "data_csv1 = pd.read_csv(mycsvfile1, header=0, sep=';')  # Read the original coordinates file\n",
    "mycsvfile2 = \"coordinates_newMOT3d.csv\"  # Coordinates of your maps, as projected onto the wm morphospace\n",
    "data_csv2 = pd.read_csv(mycsvfile2, header=0, sep=';')  # Read the new maps' coordinates file\n",
    "\n",
    "print(data_csv1.head())  # Check the first few rows of the first CSV\n",
    "print(data_csv2.head())  # Check the first few rows of the second CSV\n",
    "print(data_csv1.shape)  # Check the shape of the first CSV\n",
    "print(data_csv2.shape)  # Check the shape of the second CSV\n",
    "\n",
    "# Combine the 2 csv\n",
    "data_csv = pd.concat([data_csv1, data_csv2], ignore_index=True)\n",
    "\n",
    "print(data_csv.head())  # Display the first few rows of the data\n",
    "print(data_csv.shape) \n",
    "print(data_csv.isna().sum())  # Count NaNs in each column\n",
    "print(data_csv.isna().sum().sum())  # Total number of NaNs in the entire dataframe\n"
   ],
   "metadata": {
    "collapsed": false,
    "ExecuteTime": {
     "end_time": "2025-02-27T13:46:00.283702Z",
     "start_time": "2025-02-27T13:46:00.098088Z"
    }
   },
   "id": "b2617928f44a213"
  },
  {
   "cell_type": "code",
   "execution_count": 9,
   "outputs": [
    {
     "name": "stdout",
     "output_type": "stream",
     "text": [
      "(4161, 3)\n"
     ]
    }
   ],
   "source": [
    "print(data_csv.shape) "
   ],
   "metadata": {
    "collapsed": false,
    "ExecuteTime": {
     "end_time": "2025-02-27T13:46:06.412446Z",
     "start_time": "2025-02-27T13:46:06.214669Z"
    }
   },
   "id": "2e286f87d35d5ca0"
  },
  {
   "cell_type": "code",
   "execution_count": 6,
   "outputs": [
    {
     "name": "stdout",
     "output_type": "stream",
     "text": [
      "(4161, 3)\n",
      "(3655, 3)\n",
      "(506, 3)\n",
      "grid_coords shape: (4161, 3)\n",
      "grid_coords preview: [[5.33386755 3.73728013 2.30868363]\n",
      " [6.13055849 4.79770947 3.2049222 ]\n",
      " [6.03520393 4.54818344 3.32764959]\n",
      " [6.23309898 4.72907257 3.30239177]\n",
      " [8.1654911  4.98416758 5.36854601]]\n",
      "grid_coords shape: (3655, 3)\n",
      "grid_coords preview: [[ 8.123353    6.08314705  5.79664278]\n",
      " [10.1983633   4.26427794  7.95610142]\n",
      " [10.23467064  4.20167542  8.00701141]\n",
      " [10.13713932  4.32375526  7.87487173]\n",
      " [ 4.58716202  4.80226231  4.36778736]]\n",
      "grid_coords shape: (506, 3)\n",
      "grid_coords preview: [[5.33386755 3.73728013 2.30868363]\n",
      " [6.13055849 4.79770947 3.2049222 ]\n",
      " [6.03520393 4.54818344 3.32764959]\n",
      " [6.23309898 4.72907257 3.30239177]\n",
      " [8.1654911  4.98416758 5.36854601]]\n"
     ]
    }
   ],
   "source": [
    "# Convert to a NumPy array\n",
    "coords = np.array(data_csv)\n",
    "\n",
    "# Select the last n (according to the number of new maps, e.g. 200 maps) items\n",
    "grid_coords = coords[-len(data_csv2):]  # The last rows are the new map coordinates\n",
    "#grid_coords = np.nan_to_num(grid_coords)\n",
    "\n",
    "original_coords = coords[:-len(data_csv2)]  # The first rows are the original coordinates\n",
    "\n",
    "print(coords.shape)\n",
    "print(grid_coords.shape)\n",
    "print(original_coords.shape)\n",
    "print(\"grid_coords shape:\", coords.shape)\n",
    "print(\"grid_coords preview:\", coords[:5])  # Show first 5 rows\n",
    "print(\"grid_coords shape:\", grid_coords.shape)\n",
    "print(\"grid_coords preview:\", grid_coords[:5])  # Show first 5 rows\n",
    "print(\"grid_coords shape:\", original_coords.shape)\n",
    "print(\"grid_coords preview:\", original_coords[:5])  # Show first 5 rows\n",
    "\n",
    "\n"
   ],
   "metadata": {
    "collapsed": false,
    "ExecuteTime": {
     "end_time": "2025-02-27T13:30:19.571217Z",
     "start_time": "2025-02-27T13:30:19.276812Z"
    }
   },
   "id": "909b73c0367e4479"
  },
  {
   "cell_type": "code",
   "execution_count": 7,
   "outputs": [
    {
     "name": "stdout",
     "output_type": "stream",
     "text": [
      "Distances saved to distances_from_new_maps_to_originalMOT.csv\n"
     ]
    }
   ],
   "source": [
    "\n",
    "# Initialize an empty list to hold the distances for all new maps\n",
    "distances = []\n",
    "\n",
    "# Calculate the Euclidean distances between new maps and original maps\n",
    "for i, (x1, y1, z1) in enumerate(grid_coords):\n",
    "    d = []\n",
    "    for x2, y2, z2 in original_coords:\n",
    "        # Calculate Euclidean distance\n",
    "        distance = np.sqrt((x1 - x2) ** 2 + (y1 - y2) ** 2 + (z1 - z2) ** 2)\n",
    "        d.append(distance)\n",
    "\n",
    "    # Append the distances for the current new map to the list\n",
    "    distances.append(d)\n",
    "\n",
    "# Convert the distances list to a NumPy array (for easier saving to CSV)\n",
    "distances_array = np.array(distances)\n",
    "\n",
    "# Save the result as a single CSV file\n",
    "output_csv = \"distances_from_new_maps_to_originalMOT.csv\"\n",
    "np.savetxt(output_csv, distances_array, delimiter=',')  # Save distances to CSV\n",
    "\n",
    "print(f\"Distances saved to {output_csv}\")"
   ],
   "metadata": {
    "collapsed": false,
    "ExecuteTime": {
     "end_time": "2025-02-27T13:30:41.068571Z",
     "start_time": "2025-02-27T13:30:34.918637Z"
    }
   },
   "id": "112229978710c7c9"
  },
  {
   "cell_type": "code",
   "execution_count": null,
   "outputs": [],
   "source": [],
   "metadata": {
    "collapsed": false
   },
   "id": "63ea389ff4a4ad0f"
  }
 ],
 "metadata": {
  "kernelspec": {
   "display_name": "Python 3",
   "language": "python",
   "name": "python3"
  },
  "language_info": {
   "codemirror_mode": {
    "name": "ipython",
    "version": 2
   },
   "file_extension": ".py",
   "mimetype": "text/x-python",
   "name": "python",
   "nbconvert_exporter": "python",
   "pygments_lexer": "ipython2",
   "version": "2.7.6"
  }
 },
 "nbformat": 4,
 "nbformat_minor": 5
}
